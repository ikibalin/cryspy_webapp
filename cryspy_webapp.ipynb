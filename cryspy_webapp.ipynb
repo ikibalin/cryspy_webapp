{
 "cells": [
  {
   "cell_type": "markdown",
   "id": "e587dd50",
   "metadata": {},
   "source": [
    "# [<img src=\"logo.png\" width=\"100\" alt=\"drawing\">](https://sites.google.com/view/cryspy/main) CrysPy \n",
    "\n",
    "**Web application** of the crystallographic python library CrysPy. \n",
    "Upload \".rcif\" file to get started with the CrysPy library. Examples of \".rcif\" file can be found [here](https://sites.google.com/view/cryspy/examples)."
   ]
  },
  {
   "cell_type": "code",
   "execution_count": 1,
   "id": "2c74db88-80a8-4183-b0fb-10e43ca4602f",
   "metadata": {},
   "outputs": [],
   "source": [
    "%matplotlib widget\n",
    "import matplotlib.pyplot as plt\n",
    "import numpy\n",
    "import ipywidgets\n",
    "from ipywidgets import Output, Button, widgets, Layout\n",
    "from IPython.display import HTML, clear_output, display\n",
    "from base64 import b64encode"
   ]
  },
  {
   "cell_type": "code",
   "execution_count": 3,
   "id": "fe745510-6ea6-4137-9ca9-3399d81163f5",
   "metadata": {},
   "outputs": [],
   "source": [
    "import cryspy\n",
    "from cryspy.B_parent_classes.cl_4_global import get_table_html_for_variables"
   ]
  },
  {
   "cell_type": "code",
   "execution_count": 4,
   "id": "afea239e-0cb6-4fc2-88ed-13188ea71d93",
   "metadata": {},
   "outputs": [],
   "source": [
    "# global parameters\n",
    "DDATA = {\n",
    "    \"rcif_obj\": cryspy.str_to_globaln(\"global_\"), \n",
    "    \"file_rcif_name\": \"out.rcif\"\n",
    "}\n"
   ]
  },
  {
   "cell_type": "code",
   "execution_count": 5,
   "id": "ab20feed",
   "metadata": {},
   "outputs": [],
   "source": [
    "# global widgets\n",
    "\n",
    "W_OUT = widgets.Output(layout=Layout(justify_content='center'))"
   ]
  },
  {
   "cell_type": "code",
   "execution_count": 6,
   "id": "d6532385",
   "metadata": {},
   "outputs": [],
   "source": [
    "LAYOUT_50 = Layout(\n",
    "    display='flex',    \n",
    "    justify_content='center',\n",
    "    # border='solid 2px',\n",
    "    align_items='stretch',\n",
    "    width='49%',\n",
    ")\n",
    "LAYOUT_100 = Layout(\n",
    "    display='flex',\n",
    "    flex_flow='row',\n",
    "    justify_content='center',\n",
    "    # border='solid 2px',\n",
    "    align_items='stretch',\n",
    "    width='98%',\n",
    "    height=\"400px\",\n",
    ")"
   ]
  },
  {
   "cell_type": "code",
   "execution_count": 7,
   "id": "e34072b0-35ac-4f36-8506-3b9e476e01d0",
   "metadata": {},
   "outputs": [],
   "source": [
    "# page MENU\n",
    "def draw_page_menu():\n",
    "    widget_fo = widgets.FileUpload(\n",
    "        description = \"Upload RCIF\",\n",
    "        accept='.rcif',  # Accepted file extension e.g. '.txt', '.pdf', 'image/*', 'image/*,.pdf'\n",
    "        multiple=False,  # True to accept multiple files upload else False\n",
    "    )\n",
    "\n",
    "    def change_output(ddata):\n",
    "        s_cont = ddata[\"new\"][0][\"content\"].tobytes().decode(\"ASCII\")\n",
    "        DDATA[\"rcif_obj\"] = cryspy.str_to_globaln(s_cont)\n",
    "        W_OUT.clear_output()\n",
    "        with W_OUT:\n",
    "            print(ddata[\"new\"][0][\"name\"])\n",
    "            DDATA[\"file_rcif_name\"]=ddata[\"new\"][0][\"name\"]\n",
    "            print(\"File was uploaded\")\n",
    "        DISPLAY_NEW_OBJECT()\n",
    "    \n",
    "    widget_fo.observe(change_output, names=\"value\")\n",
    "    \n",
    "    def trigger_download(text, filename, kind='text/json'):\n",
    "        # see https://developer.mozilla.org/en-US/docs/Web/HTTP/Basics_of_HTTP/Data_URIs for details\n",
    "        content_b64 = b64encode(text.encode()).decode()\n",
    "        data_url = f'data:{kind};charset=utf-8;base64,{content_b64}'\n",
    "        js_code = f\"\"\"\n",
    "            var a = document.createElement('a');\n",
    "            a.setAttribute('download', '{filename}');\n",
    "            a.setAttribute('href', '{data_url}');\n",
    "            a.click()\n",
    "        \"\"\"\n",
    "        with W_OUT:\n",
    "            clear_output()\n",
    "            display(HTML(f'<script>{js_code}</script>'))\n",
    "    \n",
    "    btn_download = Button(description='Download it to PC')\n",
    "    \n",
    "    def download_rcif_file(e=None):\n",
    "        file_name = DDATA[\"file_rcif_name\"]\n",
    "        if DDATA[\"rcif_obj\"] is not None:\n",
    "            trigger_download(DDATA[\"rcif_obj\"].to_cif(), file_name, kind='text/plain')\n",
    "        else:\n",
    "            with W_OUT:\n",
    "                print(\"File is not specified\")\n",
    "        \n",
    "    btn_download.on_click(download_rcif_file)\n",
    "        \n",
    "    items = [widget_fo, btn_download, ] # button,\n",
    "    page_menu = widgets.Box(\n",
    "        items,\n",
    "        layout=Layout(justify_content=\"center\"))\n",
    "    return page_menu"
   ]
  },
  {
   "cell_type": "code",
   "execution_count": null,
   "id": "5f019cfa",
   "metadata": {},
   "outputs": [],
   "source": []
  },
  {
   "cell_type": "code",
   "execution_count": 8,
   "id": "73570eb3",
   "metadata": {},
   "outputs": [],
   "source": [
    "# page object\n",
    "def draw_page_object():\n",
    "    \n",
    "    select_data_item = widgets.Select(\n",
    "        options=[],\n",
    "        description='',\n",
    "        rows=10,\n",
    "        disabled=False,\n",
    "        layout=LAYOUT_50,\n",
    "        )\n",
    "    select_loop_item = widgets.Select(\n",
    "        options=[],\n",
    "        description='',\n",
    "        disabled=True,\n",
    "        rows=10,\n",
    "        layout=LAYOUT_50,\n",
    "        )\n",
    "\n",
    "    cif_text = widgets.Textarea(\n",
    "        value='',\n",
    "        placeholder=\"\"\"Put the cif file and press \"..add to data blocks\" button to upload information about crystal to CrysPy.\"\"\",\n",
    "        description='',\n",
    "        disabled=False, # True\n",
    "        layout=LAYOUT_100,\n",
    "    )\n",
    "    \n",
    "    button_save_changes = widgets.Button(\n",
    "        description=\"Save changes of current item or ...\", \n",
    "        layout=Layout(justify_content=\"center\", width=\"98%\"))\n",
    "\n",
    "    button_add_to_datas = widgets.Button(\n",
    "        description=\".. add to data blocks\", \n",
    "        layout=Layout(justify_content=\"center\", width=\"49%\"))\n",
    "    \n",
    "    button_add_to_items = widgets.Button(\n",
    "        description=\".. add to items\", \n",
    "        layout=Layout(justify_content=\"center\", width=\"49%\"))\n",
    "\n",
    "    button_del_data = widgets.Button(\n",
    "        description=\"Delete choosen data block\", \n",
    "        layout=Layout(justify_content=\"center\", width=\"49%\"))\n",
    "    \n",
    "    button_del_item = widgets.Button(\n",
    "        description=\"Delete choosen item\", \n",
    "        layout=Layout(justify_content=\"center\", width=\"49%\"))\n",
    "\n",
    "    def func_loop(dinfo_data_item):\n",
    "        data_index = select_data_item.index\n",
    "        data_item = DDATA[\"rcif_obj\"].items[data_index]\n",
    "        W_OUT.clear_output()\n",
    "        with W_OUT:\n",
    "            plt.close()\n",
    "            l_plots = data_item.plots()\n",
    "            if len(l_plots)>0:\n",
    "                plt.show()            \n",
    "            display(HTML(data_item.report_html()))\n",
    "            # display(HTML(data_item._repr_html_()))\n",
    "        if isinstance(data_item, cryspy.DataN):\n",
    "            l_loop_item_name = [item.get_name() for item in data_item]\n",
    "            select_loop_item.disabled = False\n",
    "            select_loop_item.options = l_loop_item_name\n",
    "            if len(l_loop_item_name) > 0:\n",
    "                loop_item = data_item[select_loop_item.index]\n",
    "                if loop_item is not None:\n",
    "                    cif_text.value = loop_item.to_cif()\n",
    "                    cif_text.disabled = False\n",
    "                else:\n",
    "                    cif_text.value = \"\"\n",
    "                    cif_text.disabled = False # True\n",
    "            else:\n",
    "                cif_text.value = \"\"\n",
    "                cif_text.disabled = False # True\n",
    "        else:\n",
    "            cif_text.value = data_item.to_cif()\n",
    "            select_loop_item.options = ()\n",
    "            select_loop_item.disabled = True\n",
    "            cif_text.disabled = False\n",
    "        return\n",
    "    \n",
    "    select_data_item.observe(func_loop, names=\"index\")\n",
    "    \n",
    "    def show_cif(dinfo_loop_item):\n",
    "        data_index = select_data_item.index\n",
    "        l_data_item = DDATA[\"rcif_obj\"].items[data_index]\n",
    "        loop_index = select_loop_item.index\n",
    "        loop_item = l_data_item[loop_index]\n",
    "        cif_text.value = loop_item.to_cif()\n",
    "        cif_text.disabled = False\n",
    "        loop_item_report = loop_item.report()\n",
    "        \n",
    "        W_OUT.clear_output()\n",
    "        with W_OUT:\n",
    "            plt.close()\n",
    "            l_loop_item_plots = loop_item.plots()\n",
    "            if len(l_loop_item_plots)>0:\n",
    "                plt.show()\n",
    "            display(HTML(loop_item.report_html()))\n",
    "            # display(HTML(loop_item._repr_html_()))\n",
    "\n",
    "        \n",
    "    select_loop_item.observe(show_cif, names=\"index\")\n",
    "    \n",
    "    def save_cif(b):        \n",
    "        data_index = select_data_item.index\n",
    "        l_data_item = DDATA[\"rcif_obj\"].items[data_index]\n",
    "        loop_index = select_loop_item.index\n",
    "        \n",
    "        globaln_new = cryspy.str_to_globaln(cif_text.value)\n",
    "        if len(globaln_new.items) != 0:\n",
    "            loop_item_new = globaln_new.items[0]\n",
    "            if isinstance(loop_item_new, (cryspy.LoopN, cryspy.ItemN)):\n",
    "                l_data_item.items.pop(loop_index)\n",
    "                l_data_item.items.insert(loop_index, loop_item_new)\n",
    "\n",
    "    def add_to_globaln(b):        \n",
    "        data_index = select_data_item.index\n",
    "        globaln_new = cryspy.str_to_globaln(cif_text.value)\n",
    "        if len(globaln_new.items) != 0:\n",
    "            l_data_loop_item_new = globaln_new.items\n",
    "            for data_loop_item_new in l_data_loop_item_new:\n",
    "                if isinstance(data_loop_item_new, (cryspy.LoopN, cryspy.ItemN, cryspy.DataN)):\n",
    "                    DDATA[\"rcif_obj\"].items.append(data_loop_item_new)\n",
    "            DISPLAY_NEW_OBJECT()\n",
    "\n",
    "    def add_to_datan(b):        \n",
    "        data_index = select_data_item.index\n",
    "        l_data_item = DDATA[\"rcif_obj\"].items[data_index]\n",
    "        globaln_new = cryspy.str_to_globaln(cif_text.value)\n",
    "        if len(globaln_new.items) != 0:\n",
    "            l_loop_item_new = globaln_new.items\n",
    "            for loop_item_new in l_loop_item_new:\n",
    "                if isinstance(loop_item_new, (cryspy.LoopN, cryspy.ItemN)):\n",
    "                    l_data_item.items.append(loop_item_new)\n",
    "            DISPLAY_NEW_OBJECT()\n",
    "    \n",
    "    def del_data(b):        \n",
    "        data_index = select_data_item.index\n",
    "        if data_index is not None:\n",
    "            DDATA[\"rcif_obj\"].items.pop(data_index)\n",
    "            DISPLAY_NEW_OBJECT()\n",
    "\n",
    "    def del_item(b):        \n",
    "        data_index = select_data_item.index\n",
    "        if data_index is not None:\n",
    "            l_data_item = DDATA[\"rcif_obj\"].items[data_index]\n",
    "            loop_index = select_loop_item.index\n",
    "            if loop_index is not None:\n",
    "                l_data_item.items.pop(loop_index)\n",
    "                DISPLAY_NEW_OBJECT()\n",
    "\n",
    "\n",
    "    button_save_changes.on_click(save_cif)\n",
    "    button_add_to_datas.on_click(add_to_globaln)\n",
    "    button_add_to_items.on_click(add_to_datan)\n",
    "    button_del_data.on_click(del_data)\n",
    "    button_del_item.on_click(del_item)\n",
    "    \n",
    "    items = [\n",
    "        select_data_item, select_loop_item, \n",
    "        button_del_data, button_del_item,\n",
    "        cif_text, \n",
    "        button_save_changes,button_add_to_datas,button_add_to_items]\n",
    "    page_object = widgets.HBox(items, layout=Layout(flex_flow=\"row wrap\", justify_content='center'))\n",
    "    return page_object, select_data_item, select_loop_item, cif_text"
   ]
  },
  {
   "cell_type": "code",
   "execution_count": 9,
   "id": "468c1bd5-6736-4b78-9a79-02499a1539c4",
   "metadata": {},
   "outputs": [
    {
     "ename": "SyntaxError",
     "evalue": "invalid syntax (1988475966.py, line 13)",
     "output_type": "error",
     "traceback": [
      "\u001b[0;36m  Cell \u001b[0;32mIn [9], line 13\u001b[0;36m\u001b[0m\n\u001b[0;31m    return\u001b[0m\n\u001b[0m    ^\u001b[0m\n\u001b[0;31mSyntaxError\u001b[0m\u001b[0;31m:\u001b[0m invalid syntax\n"
     ]
    }
   ],
   "source": [
    "def draw_page_cryspy_methods():\n",
    "\n",
    "    def print_object_info(b):\n",
    "        rcif_object = DDATA[\"rcif_obj\"]\n",
    "        \n",
    "        ls_html = []\n",
    "        ls_html.append(get_table_html_for_variables(rcif_object))\n",
    "        ls_html.append(rcif_object.report_html())\n",
    "        W_OUT.clear_output()\n",
    "        with W_OUT:\n",
    "            display(HTML(\"\\n\".join(ls_html)))\n",
    "            # print(\"\\n\".join(ls_text))\n",
    "        return \n",
    "\n",
    "    def run_fitting(b):\n",
    "        W_OUT.clear_output()\n",
    "        with W_OUT:\n",
    "            print(\"Calculations are running...\")\n",
    "            cryspy.rhochi_rietveld_refinement(DDATA[\"rcif_obj\"])\n",
    "            print(\"Calculations completed.\")\n",
    "            plt.close()\n",
    "            l_plots = DDATA[\"rcif_obj\"].plots()\n",
    "            if len(l_plots)>0:\n",
    "                plt.show()            \n",
    "            DISPLAY_NEW_OBJECT()\n",
    "\n",
    "    def run_chi_sq(b):\n",
    "        W_OUT.clear_output()\n",
    "        with W_OUT:\n",
    "            print(\"Calculations are running...\")\n",
    "            cryspy.rhochi_no_refinement(DDATA[\"rcif_obj\"])\n",
    "            print(\"Calculations completed.\")\n",
    "            plt.close()\n",
    "            l_plots = DDATA[\"rcif_obj\"].plots()\n",
    "            if len(l_plots)>0:\n",
    "                plt.show()\n",
    "            DISPLAY_NEW_OBJECT()\n",
    "\n",
    "    def run_mempy_sd(b):\n",
    "        W_OUT.clear_output()\n",
    "        with W_OUT:\n",
    "            print(\"Calculations are running...\")\n",
    "            cryspy.mempy_spin_density_reconstruction(DDATA[\"rcif_obj\"])\n",
    "            print(\"Calculations completed.\")\n",
    "            plt.close()\n",
    "            l_plots = DDATA[\"rcif_obj\"].plots()\n",
    "            if len(l_plots)>0:\n",
    "                plt.show()\n",
    "            DISPLAY_NEW_OBJECT()\n",
    "\n",
    "    def run_mempy_md(b):\n",
    "        W_OUT.clear_output()\n",
    "        with W_OUT:\n",
    "            print(\"Calculations are running...\")\n",
    "            cryspy.mempy_magnetization_density_reconstruction(DDATA[\"rcif_obj\"])\n",
    "            print(\"Calculations completed.\")\n",
    "            plt.close()\n",
    "            l_plots = DDATA[\"rcif_obj\"].plots()\n",
    "            if len(l_plots)>0:\n",
    "                plt.show()\n",
    "            DISPLAY_NEW_OBJECT()\n",
    "\n",
    "    button_info = widgets.Button(description=\"Info\")\n",
    "    button_calculations = widgets.Button(description=\"No fitting\")\n",
    "    button_fitting = widgets.Button(description=\"Fitting\")\n",
    "    button_mempy_sd = widgets.Button(description=\"Spin density (MEM)\")\n",
    "    button_mempy_md = widgets.Button(description=\"Magn. density (MEM)\")\n",
    "\n",
    "    items = [button_info, button_calculations, button_fitting, button_mempy_sd, button_mempy_md]\n",
    "    \n",
    "    button_info.on_click(print_object_info)\n",
    "    button_fitting.on_click(run_fitting)\n",
    "    button_calculations.on_click(run_chi_sq)\n",
    "    button_mempy_sd.on_click(run_mempy_sd)\n",
    "    button_mempy_md.on_click(run_mempy_md)\n",
    "\n",
    "    page_cryspy_methods =  widgets.Box(\n",
    "        items,\n",
    "        layout=Layout(flex_flow=\"row wrap\", justify_content='center'))\n",
    "    return page_cryspy_methods"
   ]
  },
  {
   "cell_type": "code",
   "execution_count": 13,
   "id": "fea1789c",
   "metadata": {},
   "outputs": [],
   "source": [
    "page_menu = draw_page_menu()\n",
    "page_object, SELECT_DATA_ITEM, SELECT_LOOP_ITEM, CIF_TEXT = draw_page_object()\n",
    "page_cryspy_methods = draw_page_cryspy_methods()\n"
   ]
  },
  {
   "cell_type": "code",
   "execution_count": null,
   "id": "73f687e6",
   "metadata": {},
   "outputs": [],
   "source": []
  },
  {
   "cell_type": "code",
   "execution_count": 11,
   "id": "470c687e",
   "metadata": {},
   "outputs": [
    {
     "data": {
      "application/vnd.jupyter.widget-view+json": {
       "model_id": "fa8e47b7fe254ac090403e8d4eadf091",
       "version_major": 2,
       "version_minor": 0
      },
      "text/plain": [
       "Box(children=(FileUpload(value=(), accept='.rcif', description='Upload RCIF'), Button(description='Download Fi…"
      ]
     },
     "metadata": {},
     "output_type": "display_data"
    },
    {
     "data": {
      "application/vnd.jupyter.widget-view+json": {
       "model_id": "1f70f838b30a4616bd9555604cd58ffd",
       "version_major": 2,
       "version_minor": 0
      },
      "text/plain": [
       "VBox(children=(HBox(children=(Select(description='data items:', layout=Layout(align_items='stretch', display='…"
      ]
     },
     "metadata": {},
     "output_type": "display_data"
    },
    {
     "data": {
      "application/vnd.jupyter.widget-view+json": {
       "model_id": "7e1e8c3ddf2b4433b407764ecf2eb225",
       "version_major": 2,
       "version_minor": 0
      },
      "text/plain": [
       "Box(children=(Button(description='Fitting', style=ButtonStyle()), Button(description='Chi2', style=ButtonStyle…"
      ]
     },
     "metadata": {},
     "output_type": "display_data"
    },
    {
     "data": {
      "application/vnd.jupyter.widget-view+json": {
       "model_id": "9fbd7b95653b4a8886696ae94aaa3c29",
       "version_major": 2,
       "version_minor": 0
      },
      "text/plain": [
       "Output()"
      ]
     },
     "metadata": {},
     "output_type": "display_data"
    }
   ],
   "source": [
    "display(page_menu, page_object)"
   ]
  },
  {
   "cell_type": "code",
   "execution_count": 32,
   "id": "9418a0a7",
   "metadata": {},
   "outputs": [
    {
     "data": {
      "text/html": [
       "<h2>Methods</h2>"
      ],
      "text/plain": [
       "<IPython.core.display.HTML object>"
      ]
     },
     "metadata": {},
     "output_type": "display_data"
    }
   ],
   "source": [
    "display(HTML(\"<h2>Methods</h2>\"))"
   ]
  },
  {
   "cell_type": "code",
   "execution_count": null,
   "id": "9b5985cb",
   "metadata": {},
   "outputs": [],
   "source": [
    "display(page_cryspy_methods, W_OUT)"
   ]
  },
  {
   "cell_type": "code",
   "execution_count": null,
   "id": "226592f0",
   "metadata": {},
   "outputs": [],
   "source": []
  },
  {
   "cell_type": "code",
   "execution_count": 12,
   "id": "f9bf1575",
   "metadata": {},
   "outputs": [
    {
     "data": {
      "text/plain": [
       "()"
      ]
     },
     "execution_count": 12,
     "metadata": {},
     "output_type": "execute_result"
    }
   ],
   "source": [
    "def DISPLAY_NEW_OBJECT():\n",
    "    l_data_item_name = [item.get_name() for item in DDATA[\"rcif_obj\"].items]\n",
    "    \n",
    "    SELECT_DATA_ITEM.options = l_data_item_name\n",
    "    # if (SELECT_DATA_ITEM.index is None) and len(l_data_item_name)>0:\n",
    "    #     SELECT_DATA_ITEM.index = 0\n",
    "    if (SELECT_DATA_ITEM.index is None):\n",
    "        return\n",
    "    \n",
    "    data_index = SELECT_DATA_ITEM.index\n",
    "    if data_index >= len(l_data_item_name):\n",
    "        data_index = 0\n",
    "    data_item = DDATA[\"rcif_obj\"].items[data_index]\n",
    "    if isinstance(data_item, cryspy.DataN):\n",
    "        l_loop_item_name = [item.get_name() for item in data_item.items]\n",
    "        SELECT_LOOP_ITEM.options = l_loop_item_name\n",
    "\n",
    "        # if (SELECT_LOOP_ITEM.index is None) and len(l_loop_item_name)>0:\n",
    "        #     SELECT_LOOP_ITEM.index = 0\n",
    "        if (SELECT_LOOP_ITEM.index is None):\n",
    "            return\n",
    "        loop_index = SELECT_LOOP_ITEM.index\n",
    "        if loop_index >= len(l_loop_item_name):\n",
    "            loop_index = 0\n",
    "        loop_item = data_item.items[0]\n",
    "        CIF_TEXT.value = loop_item.to_cif()\n",
    "    else:\n",
    "        CIF_TEXT.value = data_item.to_cif()\n",
    "        "
   ]
  },
  {
   "cell_type": "code",
   "execution_count": null,
   "id": "1edcedb3",
   "metadata": {},
   "outputs": [],
   "source": []
  },
  {
   "cell_type": "code",
   "execution_count": 9,
   "id": "a1767687",
   "metadata": {},
   "outputs": [
    {
     "data": {
      "application/vnd.jupyter.widget-view+json": {
       "model_id": "aa19fb0ca83a4f568bc98772e32eacb6",
       "version_major": 2,
       "version_minor": 0
      },
      "text/plain": [
       "VBox(children=(HBox(children=(Select(description='data items:', layout=Layout(align_items='stretch', display='…"
      ]
     },
     "metadata": {},
     "output_type": "display_data"
    }
   ],
   "source": []
  },
  {
   "cell_type": "code",
   "execution_count": 13,
   "id": "f0ad52ba-a2c3-41d5-b2bc-a5a2eb038776",
   "metadata": {},
   "outputs": [
    {
     "data": {
      "application/vnd.jupyter.widget-view+json": {
       "model_id": "b3e1badb07c842b7a65f89245a067300",
       "version_major": 2,
       "version_minor": 0
      },
      "text/plain": [
       "Tab(children=(Box(children=(FileUpload(value=(), accept='.rcif', description='Upload RCIF'), Button(descriptio…"
      ]
     },
     "metadata": {},
     "output_type": "display_data"
    },
    {
     "data": {
      "application/vnd.jupyter.widget-view+json": {
       "model_id": "5635f50cf51846f58ce2821cd27992da",
       "version_major": 2,
       "version_minor": 0
      },
      "text/plain": [
       "HBox(children=(Button(description='Fitting', style=ButtonStyle()), Button(description='Chi2', style=ButtonStyl…"
      ]
     },
     "metadata": {},
     "output_type": "display_data"
    },
    {
     "data": {
      "application/vnd.jupyter.widget-view+json": {
       "model_id": "3c0ad4b050b44badb8ac7da2bc5502e5",
       "version_major": 2,
       "version_minor": 0
      },
      "text/plain": [
       "Output(outputs=({'output_type': 'display_data', 'data': {'text/plain': '<IPython.core.display.HTML object>', '…"
      ]
     },
     "metadata": {},
     "output_type": "display_data"
    }
   ],
   "source": []
  },
  {
   "cell_type": "code",
   "execution_count": 14,
   "id": "20460982-18c0-4d2b-897e-2cbeb12857f0",
   "metadata": {},
   "outputs": [],
   "source": [
    "\n"
   ]
  },
  {
   "cell_type": "code",
   "execution_count": null,
   "id": "c7d36ff5-4ac4-4b6d-92dd-a96698c0f607",
   "metadata": {},
   "outputs": [],
   "source": []
  },
  {
   "cell_type": "code",
   "execution_count": null,
   "id": "43c180a7",
   "metadata": {},
   "outputs": [],
   "source": [
    "# select = widgets.Select(\n",
    "#     options=['Linux', 'Windows', 'macOS'],\n",
    "#     value='macOS',\n",
    "#     # rows=10,\n",
    "#     description='OS:',\n",
    "#     disabled=False\n",
    "# )\n",
    "# download_output = Output()\n",
    "# def change_output(value: str):\n",
    "#     download_output.clear_output()\n",
    "#     with download_output:\n",
    "#         print(value[\"new\"])\n",
    "# select.observe(change_output, names=\"value\")\n",
    "# display(select, download_output)"
   ]
  },
  {
   "cell_type": "code",
   "execution_count": null,
   "id": "be504a9f",
   "metadata": {},
   "outputs": [],
   "source": [
    "# widgets.Dropdown(\n",
    "#     options=['1', '2', '3'],\n",
    "#     value='2',\n",
    "#     description='Number:',\n",
    "#     disabled=False,\n",
    "# )"
   ]
  },
  {
   "cell_type": "code",
   "execution_count": null,
   "id": "0123e814",
   "metadata": {},
   "outputs": [],
   "source": [
    "# widgets.Combobox(\n",
    "#     # value='John',\n",
    "#     placeholder='Choose Someone',\n",
    "#     options=['Paul', 'John', 'George', 'Ringo'],\n",
    "#     description='Combobox:',\n",
    "#     ensure_option=True,\n",
    "#     disabled=False\n",
    "# )"
   ]
  },
  {
   "cell_type": "code",
   "execution_count": null,
   "id": "a64aa37a",
   "metadata": {},
   "outputs": [],
   "source": [
    "# from IPython.display import FileLink\n",
    "# filename = \"fff.rcif\"\n",
    "# FileLink(filename)"
   ]
  }
 ],
 "metadata": {
  "kernelspec": {
   "display_name": "Python 3.9.2 64-bit",
   "language": "python",
   "name": "python3"
  },
  "language_info": {
   "codemirror_mode": {
    "name": "ipython",
    "version": 3
   },
   "file_extension": ".py",
   "mimetype": "text/x-python",
   "name": "python",
   "nbconvert_exporter": "python",
   "pygments_lexer": "ipython3",
   "version": "3.9.2"
  },
  "vscode": {
   "interpreter": {
    "hash": "916dbcbb3f70747c44a77c7bcd40155683ae19c65e1c03b4aa3499c5328201f1"
   }
  }
 },
 "nbformat": 4,
 "nbformat_minor": 5
}
