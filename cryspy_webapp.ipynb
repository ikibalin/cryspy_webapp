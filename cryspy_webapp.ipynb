{
 "cells": [
  {
   "cell_type": "markdown",
   "id": "e587dd50",
   "metadata": {},
   "source": [
    "# Web Application of CrysPy \n",
    "\n",
    "By this application you can make refinement of polarized neutron diffraction data.\n",
    "\n",
    "Calculations are done remotly without any necessety to install library on your personal machine.\n",
    "\n",
    "Uppload tha file to run the refinement procedure."
   ]
  },
  {
   "cell_type": "code",
   "execution_count": 1,
   "id": "a466be1e-d13f-4d9c-9525-3089d500a594",
   "metadata": {},
   "outputs": [],
   "source": [
    "# !pip3 install ipympl"
   ]
  },
  {
   "cell_type": "code",
   "execution_count": 2,
   "id": "2c74db88-80a8-4183-b0fb-10e43ca4602f",
   "metadata": {},
   "outputs": [],
   "source": [
    "%matplotlib widget\n",
    "import ipywidgets\n",
    "from ipywidgets import Output, Button, widgets, Layout\n",
    "from IPython.display import HTML, clear_output, display\n",
    "from base64 import b64encode"
   ]
  },
  {
   "cell_type": "code",
   "execution_count": 3,
   "id": "fe745510-6ea6-4137-9ca9-3399d81163f5",
   "metadata": {},
   "outputs": [],
   "source": [
    "import cryspy"
   ]
  },
  {
   "cell_type": "code",
   "execution_count": 4,
   "id": "afea239e-0cb6-4fc2-88ed-13188ea71d93",
   "metadata": {},
   "outputs": [],
   "source": [
    "# global parameters\n",
    "DDATA = {\"rcif_obj\": None, \"file_rcif_name\": \"out.rcif\"}\n",
    "W_OUT = widgets.Output()"
   ]
  },
  {
   "cell_type": "code",
   "execution_count": 5,
   "id": "d6532385",
   "metadata": {},
   "outputs": [],
   "source": [
    "LAYOUT_50 = Layout(\n",
    "    display='flex',\n",
    "    flex_flow='row',\n",
    "    justify_content='space-between',\n",
    "    # border='solid 2px',\n",
    "    align_items='stretch',\n",
    "    width='49%'\n",
    ")\n",
    "LAYOUT_100 = Layout(\n",
    "    display='flex',\n",
    "    flex_flow='row',\n",
    "    justify_content='space-between',\n",
    "    # border='solid 2px',\n",
    "    align_items='stretch',\n",
    "    width='98%',\n",
    "    height=\"400px\",\n",
    ")"
   ]
  },
  {
   "cell_type": "code",
   "execution_count": 6,
   "id": "e34072b0-35ac-4f36-8506-3b9e476e01d0",
   "metadata": {},
   "outputs": [],
   "source": [
    "# page intro\n",
    "def create_page_intro():\n",
    "    widget_fo = widgets.FileUpload(\n",
    "        description = \"Upload RCIF\",\n",
    "        accept='.rcif',  # Accepted file extension e.g. '.txt', '.pdf', 'image/*', 'image/*,.pdf'\n",
    "        multiple=False,  # True to accept multiple files upload else False\n",
    "    )\n",
    "\n",
    "    def change_output(ddata):\n",
    "        s_cont = ddata[\"new\"][0][\"content\"].tobytes().decode(\"ASCII\")\n",
    "        DDATA[\"rcif_obj\"] = cryspy.str_to_globaln(s_cont)\n",
    "        W_OUT.clear_output()\n",
    "        with W_OUT:\n",
    "            print(ddata[\"new\"][0][\"name\"])\n",
    "            DDATA[\"file_rcif_name\"]=ddata[\"new\"][0][\"name\"]\n",
    "            print(\"File was uploaded\")\n",
    "        add_page_object_to_tab()\n",
    "    \n",
    "    widget_fo.observe(change_output, names=\"value\")\n",
    "\n",
    "\n",
    "    def on_button_clicked(b):\n",
    "        DDATA[\"rcif_obj\"] = cryspy.str_to_globaln(\"global_\")\n",
    "        W_OUT.clear_output()\n",
    "        with W_OUT:\n",
    "            print(\"Empty file was created\")    \n",
    "        add_page_object_to_tab()\n",
    "        \n",
    "\n",
    "    # button = widgets.Button(description=\"Empty object\")\n",
    "    # button.on_click(on_button_clicked)\n",
    "    \n",
    "    \n",
    "    def trigger_download(text, filename, kind='text/json'):\n",
    "        # see https://developer.mozilla.org/en-US/docs/Web/HTTP/Basics_of_HTTP/Data_URIs for details\n",
    "        content_b64 = b64encode(text.encode()).decode()\n",
    "        data_url = f'data:{kind};charset=utf-8;base64,{content_b64}'\n",
    "        js_code = f\"\"\"\n",
    "            var a = document.createElement('a');\n",
    "            a.setAttribute('download', '{filename}');\n",
    "            a.setAttribute('href', '{data_url}');\n",
    "            a.click()\n",
    "        \"\"\"\n",
    "        with W_OUT:\n",
    "            clear_output()\n",
    "            display(HTML(f'<script>{js_code}</script>'))\n",
    "    \n",
    "    btn_download = Button(description='Download File')\n",
    "    \n",
    "    def download_rcif_file(e=None):\n",
    "        file_name = DDATA[\"file_rcif_name\"]\n",
    "        if DDATA[\"rcif_obj\"] is not None:\n",
    "            trigger_download(DDATA[\"rcif_obj\"].to_cif(), file_name, kind='text/plain')\n",
    "        else:\n",
    "            with W_OUT:\n",
    "                print(\"File is not specified\")\n",
    "        \n",
    "    btn_download.on_click(download_rcif_file)\n",
    "        \n",
    "    items = [widget_fo, btn_download, ] # button,\n",
    "    page = widgets.Box(items, layout=Layout(justify_content=\"center\"))\n",
    "    return page"
   ]
  },
  {
   "cell_type": "code",
   "execution_count": 11,
   "id": "23f48589-0d7f-4626-a7b5-0f2067e943fa",
   "metadata": {},
   "outputs": [],
   "source": [
    "# page object\n",
    "def create_page_object():\n",
    "    if DDATA[\"rcif_obj\"] is None:\n",
    "        page = widgets.Box(items)\n",
    "        return page\n",
    "\n",
    "    l_data_item_name = [item.get_name() for item in DDATA[\"rcif_obj\"].items]\n",
    "    \n",
    "    select_data_item = widgets.Select(\n",
    "        options=l_data_item_name,\n",
    "        description='data items:',\n",
    "        disabled=False,\n",
    "        layout=LAYOUT_50,\n",
    "        )\n",
    "    select_loop_item = widgets.Select(\n",
    "        options=[],\n",
    "        description='loop items:',\n",
    "        disabled=True,\n",
    "        layout=LAYOUT_50,\n",
    "        )\n",
    "\n",
    "    cif_text = widgets.Textarea(\n",
    "        value='',\n",
    "        placeholder='Type or drop cif objet',\n",
    "        description='CIF:',\n",
    "        disabled=True,\n",
    "        layout=LAYOUT_100,\n",
    "    )\n",
    "\n",
    "    button = widgets.Button(description=\"Save cif\", layout=Layout(justify_content=\"center\"))\n",
    "\n",
    "    \n",
    "    def func_loop(dinfo_data_item):\n",
    "        data_index = select_data_item.index\n",
    "        data_item = DDATA[\"rcif_obj\"].items[data_index]\n",
    "        W_OUT.clear_output()\n",
    "        with W_OUT:\n",
    "            for fig, ax in data_item.plots():\n",
    "                display(fig)\n",
    "            display(HTML(data_item.report_html()))\n",
    "        if isinstance(data_item, cryspy.DataN):\n",
    "            l_loop_item_name = [item.get_name() for item in data_item]\n",
    "            select_loop_item.disabled = False\n",
    "            select_loop_item.options = l_loop_item_name\n",
    "            if len(l_loop_item_name) > 0:\n",
    "                loop_item = data_item[select_loop_item.index]\n",
    "                if loop_item is not None:\n",
    "                    cif_text.value = loop_item.to_cif()\n",
    "                    cif_text.disabled = False\n",
    "                else:\n",
    "                    cif_text.value = \"\"\n",
    "                    cif_text.disabled = True\n",
    "            else:\n",
    "                cif_text.value = \"\"\n",
    "                cif_text.disabled = True\n",
    "        else:\n",
    "            cif_text.value = data_item.to_cif()\n",
    "            select_loop_item.options = ()\n",
    "            select_loop_item.disabled = True\n",
    "            cif_text.disabled = False\n",
    "        return\n",
    "    \n",
    "    select_data_item.observe(func_loop, names=\"index\")\n",
    "    \n",
    "    def show_cif(dinfo_loop_item):\n",
    "        data_index = select_data_item.index\n",
    "        l_data_item = DDATA[\"rcif_obj\"].items[data_index]\n",
    "        loop_index = select_loop_item.index\n",
    "        loop_item = l_data_item[loop_index]\n",
    "        cif_text.value = loop_item.to_cif()\n",
    "        cif_text.disabled = False\n",
    "        loop_item_report = loop_item.report()\n",
    "        \n",
    "        W_OUT.clear_output()\n",
    "        with W_OUT:\n",
    "            for fig, ax in loop_item.plots():\n",
    "                display(fig)\n",
    "            display(HTML(loop_item.report_html()))\n",
    "\n",
    "        \n",
    "    select_loop_item.observe(show_cif, names=\"index\")\n",
    "    \n",
    "    def save_cif(b):        \n",
    "        data_index = select_data_item.index\n",
    "        l_data_item = DDATA[\"rcif_obj\"].items[data_index]\n",
    "        loop_index = select_loop_item.index\n",
    "        \n",
    "        globaln_new = cryspy.str_to_globaln(cif_text.value)\n",
    "        if len(globaln_new.items) != 0:\n",
    "            loop_item_new = globaln_new.items[0]\n",
    "            if isinstance(loop_item_new, (cryspy.LoopN, cryspy.ItemN)):\n",
    "                l_data_item.items.pop(loop_index)\n",
    "                l_data_item.items.insert(loop_index, loop_item_new)\n",
    "                    \n",
    "    button.on_click(save_cif)\n",
    "    \n",
    "    \n",
    "    item_v = [widgets.HBox([select_data_item, select_loop_item, ]), cif_text, button]\n",
    "    page = widgets.VBox(item_v)\n",
    "    \n",
    "    return page"
   ]
  },
  {
   "cell_type": "code",
   "execution_count": 12,
   "id": "468c1bd5-6736-4b78-9a79-02499a1539c4",
   "metadata": {},
   "outputs": [],
   "source": [
    "\n",
    "def run_fitting(b):\n",
    "    W_OUT.clear_output()\n",
    "    with W_OUT:\n",
    "        print(\"Calculations started\")\n",
    "        cryspy.rhochi_rietveld_refinement(DDATA[\"rcif_obj\"])\n",
    "        print(\"Calculations finished\")\n",
    "        for fig, ax in DDATA[\"rcif_obj\"].plots():\n",
    "            display(fig)\n",
    "        add_page_object_to_tab()\n",
    "    \n",
    "def run_chi_sq(b):\n",
    "    W_OUT.clear_output()\n",
    "    with W_OUT:\n",
    "        print(\"Calculations started\")\n",
    "        cryspy.rhochi_no_refinement(DDATA[\"rcif_obj\"])\n",
    "        print(\"Calculations finished\")\n",
    "        for fig, ax in DDATA[\"rcif_obj\"].plots():\n",
    "            display(fig)\n",
    "        add_page_object_to_tab()\n",
    "        \n",
    "def run_mempy_sd(b):\n",
    "    W_OUT.clear_output()\n",
    "    with W_OUT:\n",
    "        print(\"Calculations started\")\n",
    "        cryspy.mempy_spin_density_reconstruction(DDATA[\"rcif_obj\"])\n",
    "        print(\"Calculations finished\")\n",
    "        for fig, ax in DDATA[\"rcif_obj\"].plots():\n",
    "            display(fig)\n",
    "        add_page_object_to_tab()\n",
    "    \n",
    "def run_mempy_md(b):\n",
    "    W_OUT.clear_output()\n",
    "    with W_OUT:\n",
    "        print(\"Calculations started\")\n",
    "        cryspy.mempy_magnetization_density_reconstruction(DDATA[\"rcif_obj\"])\n",
    "        print(\"Calculations finished\")\n",
    "        for fig, ax in DDATA[\"rcif_obj\"].plots():\n",
    "            display(fig)\n",
    "        add_page_object_to_tab()\n",
    "    \n",
    "    \n",
    "button_fitting = widgets.Button(description=\"Fitting\")\n",
    "button_calculations = widgets.Button(description=\"Chi2\")\n",
    "button_mempy_sd = widgets.Button(description=\"Maximum Entropy (Spin density)\")\n",
    "button_mempy_md = widgets.Button(description=\"Maximum Entropy (Magnetization density)\")\n",
    "\n",
    "items = [button_fitting, button_calculations, button_mempy_sd, button_mempy_md]\n",
    "\n",
    "button_fitting.on_click(run_fitting)\n",
    "button_calculations.on_click(run_chi_sq)\n",
    "button_mempy_sd.on_click(run_mempy_sd)\n",
    "button_mempy_md.on_click(run_mempy_md)\n",
    "\n",
    "\n",
    "page_methods = widgets.HBox(items, layout=Layout(justify_content=\"center\"))"
   ]
  },
  {
   "cell_type": "code",
   "execution_count": null,
   "id": "f79f7fc0-e68e-4f41-b131-9c5369d5be07",
   "metadata": {},
   "outputs": [],
   "source": []
  },
  {
   "cell_type": "code",
   "execution_count": 13,
   "id": "f0ad52ba-a2c3-41d5-b2bc-a5a2eb038776",
   "metadata": {},
   "outputs": [
    {
     "data": {
      "application/vnd.jupyter.widget-view+json": {
       "model_id": "b3e1badb07c842b7a65f89245a067300",
       "version_major": 2,
       "version_minor": 0
      },
      "text/plain": [
       "Tab(children=(Box(children=(FileUpload(value=(), accept='.rcif', description='Upload RCIF'), Button(descriptio…"
      ]
     },
     "metadata": {},
     "output_type": "display_data"
    },
    {
     "data": {
      "application/vnd.jupyter.widget-view+json": {
       "model_id": "5635f50cf51846f58ce2821cd27992da",
       "version_major": 2,
       "version_minor": 0
      },
      "text/plain": [
       "HBox(children=(Button(description='Fitting', style=ButtonStyle()), Button(description='Chi2', style=ButtonStyl…"
      ]
     },
     "metadata": {},
     "output_type": "display_data"
    },
    {
     "data": {
      "application/vnd.jupyter.widget-view+json": {
       "model_id": "3c0ad4b050b44badb8ac7da2bc5502e5",
       "version_major": 2,
       "version_minor": 0
      },
      "text/plain": [
       "Output(outputs=({'output_type': 'display_data', 'data': {'text/plain': '<IPython.core.display.HTML object>', '…"
      ]
     },
     "metadata": {},
     "output_type": "display_data"
    }
   ],
   "source": [
    "tab = widgets.Tab()\n",
    "page_intro = create_page_intro()\n",
    "tab.children = (page_intro, )\n",
    "tab.titles = (\"Intro\", )\n",
    "display(tab, page_methods, W_OUT)"
   ]
  },
  {
   "cell_type": "code",
   "execution_count": 14,
   "id": "20460982-18c0-4d2b-897e-2cbeb12857f0",
   "metadata": {},
   "outputs": [],
   "source": [
    "def add_page_object_to_tab():\n",
    "    page_object = create_page_object()\n",
    "    if len(tab.children) == 1:\n",
    "        tab.children += (page_object, )\n",
    "        tab.titles = tab.titles[:-1] + (\"Object\", )\n",
    "    else:\n",
    "        tab.children = tab.children[:1]+(page_object, )+tab.children[2:]\n",
    "    tab.selected_index = 1\n"
   ]
  },
  {
   "cell_type": "code",
   "execution_count": null,
   "id": "c7d36ff5-4ac4-4b6d-92dd-a96698c0f607",
   "metadata": {},
   "outputs": [],
   "source": []
  },
  {
   "cell_type": "code",
   "execution_count": null,
   "id": "3f6bb2f8-860d-4ec8-946d-0539cfe6a4a0",
   "metadata": {},
   "outputs": [],
   "source": []
  },
  {
   "cell_type": "code",
   "execution_count": null,
   "id": "b178c433-f462-4f92-b25c-aadd22a4af86",
   "metadata": {},
   "outputs": [],
   "source": []
  },
  {
   "cell_type": "code",
   "execution_count": null,
   "id": "c9e9e17f-b2f3-4d40-8518-4043f071d7b1",
   "metadata": {},
   "outputs": [],
   "source": []
  },
  {
   "cell_type": "code",
   "execution_count": null,
   "id": "35405db8-d37d-4b82-a6f0-e5ae095e9b70",
   "metadata": {},
   "outputs": [],
   "source": []
  },
  {
   "cell_type": "code",
   "execution_count": null,
   "id": "a41717f1-e3a8-4c55-9a7b-31747318180e",
   "metadata": {},
   "outputs": [],
   "source": []
  },
  {
   "cell_type": "code",
   "execution_count": null,
   "id": "028bc8ff-d843-406b-a273-52c3a95cc730",
   "metadata": {},
   "outputs": [],
   "source": []
  },
  {
   "cell_type": "code",
   "execution_count": null,
   "id": "7b55ceb6-1d48-4783-aff3-9eae2f1f09bd",
   "metadata": {},
   "outputs": [],
   "source": []
  },
  {
   "cell_type": "code",
   "execution_count": null,
   "id": "d9ce6c63-e2b0-43fd-9ca8-14b71f4b1a28",
   "metadata": {},
   "outputs": [],
   "source": []
  },
  {
   "cell_type": "code",
   "execution_count": null,
   "id": "c318da35-7b49-4266-87fc-ab7d81a2a294",
   "metadata": {},
   "outputs": [],
   "source": []
  },
  {
   "cell_type": "code",
   "execution_count": null,
   "id": "a0e8c886-98f2-4c6f-8901-1d3ff280ceec",
   "metadata": {},
   "outputs": [],
   "source": []
  },
  {
   "cell_type": "code",
   "execution_count": null,
   "id": "8c1086a2-1b18-499e-a6a6-578b55e3f1bd",
   "metadata": {},
   "outputs": [],
   "source": []
  },
  {
   "cell_type": "code",
   "execution_count": null,
   "id": "8d6c2ccf-6dc7-477c-b214-eba16d2249ac",
   "metadata": {},
   "outputs": [],
   "source": []
  },
  {
   "cell_type": "code",
   "execution_count": 89,
   "id": "0fdacda7-9273-4f6c-86b0-07a27c5578b8",
   "metadata": {},
   "outputs": [],
   "source": []
  },
  {
   "cell_type": "code",
   "execution_count": null,
   "id": "c5e926a8-26a9-4589-a8dc-3fd2d8411b16",
   "metadata": {},
   "outputs": [],
   "source": []
  },
  {
   "cell_type": "code",
   "execution_count": null,
   "id": "f5ec96cb-3ca5-4801-8ad9-40a2324a0268",
   "metadata": {},
   "outputs": [],
   "source": []
  },
  {
   "cell_type": "code",
   "execution_count": 35,
   "id": "6a343aed-2064-4184-8ff7-5b73dcc93495",
   "metadata": {},
   "outputs": [],
   "source": []
  },
  {
   "cell_type": "code",
   "execution_count": null,
   "id": "73c28d67-02b9-413b-b81f-767681f65300",
   "metadata": {},
   "outputs": [],
   "source": []
  },
  {
   "cell_type": "code",
   "execution_count": 67,
   "id": "205aa47b-318a-4a45-8d2f-aa26e8e1b274",
   "metadata": {},
   "outputs": [],
   "source": []
  },
  {
   "cell_type": "code",
   "execution_count": null,
   "id": "b540a7e9-c492-47d7-847a-fa0885459288",
   "metadata": {},
   "outputs": [],
   "source": []
  },
  {
   "cell_type": "code",
   "execution_count": null,
   "id": "218aeb23-9d12-44f0-908d-aa72c6d908d0",
   "metadata": {},
   "outputs": [],
   "source": []
  },
  {
   "cell_type": "code",
   "execution_count": null,
   "id": "01450970-b5f0-434d-b816-697800147321",
   "metadata": {},
   "outputs": [],
   "source": []
  },
  {
   "cell_type": "code",
   "execution_count": null,
   "id": "d69eec58-9c3c-42f2-b284-032bb9b77270",
   "metadata": {},
   "outputs": [],
   "source": []
  },
  {
   "cell_type": "code",
   "execution_count": null,
   "id": "a1d03f5e-8927-4297-b93b-0d6b0167778d",
   "metadata": {},
   "outputs": [],
   "source": []
  },
  {
   "cell_type": "code",
   "execution_count": null,
   "id": "db6750cf-f3e1-4424-8a0c-a2dd191fafa3",
   "metadata": {},
   "outputs": [],
   "source": []
  },
  {
   "cell_type": "code",
   "execution_count": null,
   "id": "fa175c3a-b175-4cc4-9fe6-f759997e691b",
   "metadata": {},
   "outputs": [],
   "source": []
  },
  {
   "cell_type": "code",
   "execution_count": null,
   "id": "c5b4e3e7-4ce1-419f-b68d-85b56285beec",
   "metadata": {},
   "outputs": [],
   "source": []
  },
  {
   "cell_type": "code",
   "execution_count": null,
   "id": "f5f980e9",
   "metadata": {},
   "outputs": [],
   "source": []
  },
  {
   "cell_type": "code",
   "execution_count": null,
   "id": "0e1fa2be",
   "metadata": {},
   "outputs": [],
   "source": []
  },
  {
   "cell_type": "code",
   "execution_count": null,
   "id": "43c180a7",
   "metadata": {},
   "outputs": [],
   "source": [
    "# select = widgets.Select(\n",
    "#     options=['Linux', 'Windows', 'macOS'],\n",
    "#     value='macOS',\n",
    "#     # rows=10,\n",
    "#     description='OS:',\n",
    "#     disabled=False\n",
    "# )\n",
    "# download_output = Output()\n",
    "# def change_output(value: str):\n",
    "#     download_output.clear_output()\n",
    "#     with download_output:\n",
    "#         print(value[\"new\"])\n",
    "# select.observe(change_output, names=\"value\")\n",
    "# display(select, download_output)"
   ]
  },
  {
   "cell_type": "code",
   "execution_count": null,
   "id": "be504a9f",
   "metadata": {},
   "outputs": [],
   "source": [
    "# widgets.Dropdown(\n",
    "#     options=['1', '2', '3'],\n",
    "#     value='2',\n",
    "#     description='Number:',\n",
    "#     disabled=False,\n",
    "# )"
   ]
  },
  {
   "cell_type": "code",
   "execution_count": null,
   "id": "0123e814",
   "metadata": {},
   "outputs": [],
   "source": [
    "# widgets.Combobox(\n",
    "#     # value='John',\n",
    "#     placeholder='Choose Someone',\n",
    "#     options=['Paul', 'John', 'George', 'Ringo'],\n",
    "#     description='Combobox:',\n",
    "#     ensure_option=True,\n",
    "#     disabled=False\n",
    "# )"
   ]
  },
  {
   "cell_type": "code",
   "execution_count": null,
   "id": "115f698b-6af2-4180-bf1f-57020e440e86",
   "metadata": {},
   "outputs": [],
   "source": []
  },
  {
   "cell_type": "code",
   "execution_count": null,
   "id": "6d9f5ebe-dba0-472d-a439-ecbfe485cef0",
   "metadata": {},
   "outputs": [],
   "source": []
  },
  {
   "cell_type": "code",
   "execution_count": null,
   "id": "f61c1f4b",
   "metadata": {},
   "outputs": [],
   "source": []
  },
  {
   "cell_type": "raw",
   "id": "72781872",
   "metadata": {},
   "source": [
    "\n"
   ]
  },
  {
   "cell_type": "code",
   "execution_count": null,
   "id": "a64aa37a",
   "metadata": {},
   "outputs": [],
   "source": [
    "# from IPython.display import FileLink\n",
    "# filename = \"fff.rcif\"\n",
    "# FileLink(filename)"
   ]
  }
 ],
 "metadata": {
  "kernelspec": {
   "display_name": "Python 3 (ipykernel)",
   "language": "python",
   "name": "python3"
  },
  "language_info": {
   "codemirror_mode": {
    "name": "ipython",
    "version": 3
   },
   "file_extension": ".py",
   "mimetype": "text/x-python",
   "name": "python",
   "nbconvert_exporter": "python",
   "pygments_lexer": "ipython3",
   "version": "3.9.2"
  }
 },
 "nbformat": 4,
 "nbformat_minor": 5
}
